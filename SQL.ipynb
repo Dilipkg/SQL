{
 "cells": [
  {
   "cell_type": "markdown",
   "id": "05cff011-e115-4d45-867c-9f5ca4fa5a1b",
   "metadata": {},
   "source": [
    "Q1.\n",
    "A Database is an organized collection of data, so that it can be can be easily accessed and managed.\n",
    "SQL=>\n",
    "a.Stands for Structured Query Language.\n",
    "b.Relational database management system (RDBMS)\n",
    "c.Suitable for structured data with predefined schema\n",
    "d.Data is stored in tables with columns and rows\n",
    "e.Supports JOIN and complex queries\n",
    "NOSQL=>\n",
    "a.Stands for Not Only SQL\n",
    "b.Non-relational database management system\n",
    "c.Suitable for unstructured and semi-structured data\n",
    "d.Data is stored in collections or documents\n",
    "e.Does not support JOIN and complex queries\n"
   ]
  },
  {
   "cell_type": "markdown",
   "id": "0b9de9ca-0de9-46f4-90b3-fcbff92dbfd6",
   "metadata": {},
   "source": [
    "Q2.\n",
    "Data definition laguage is subset of SQL. it is a language for describing data and its relationship in database\n",
    "Create=> create table\n",
    "CREATE TABLE Persons(PersonID int,LastName varchar(225),FirstName varchar(225), Address varchar(225),City varchar(225));\n",
    "ALTER=>\n",
    "ALTER table command adds,deletes,or modifies columns in a table\n",
    "ALTER TABLE Customers\n",
    "ADD Email varcar(225);\n",
    "DROP=>\n",
    "DROP TABLE command deletes a table in the database.\n",
    "ALTER TABLE Customers\n",
    "DROP COLUMN Email;\n",
    "TRUNCATE=>\n",
    "The TRUNCATE TABLE command deletes the data inside a table, but not the table itself.\n",
    "TRUNCATE TABLE Categories;"
   ]
  },
  {
   "cell_type": "markdown",
   "id": "3b2e6d13-9784-40ac-b66d-303d865358c4",
   "metadata": {},
   "source": [
    "Q3.\n",
    "data manipulate language is a family of computer languages including commands permitting users to manupulates data in a database.\n",
    "INSERT can also help with adding rows from one table into another table.\n",
    "INSERT INTO tableName\n",
    "(column1,column2,.....)\n",
    "VALUES(value1,value2,.....)\n",
    "UPDATE=>\n",
    "Use it to change a column value for one or multiple rows.\n",
    "UPDATE tableName\n",
    "SET column1=value1, column2=value2,...\n",
    "WHERE filterColumn=filterValue\n",
    "DELETE=>\n",
    "DELETE removes one or multiple rows from a table\n",
    "DELETE tableName\n",
    "WHERE  filterColumn=filterValue;"
   ]
  },
  {
   "cell_type": "markdown",
   "id": "20e94733-e41e-4d2c-9709-d68fe28f8444",
   "metadata": {},
   "source": [
    "Q4.\n",
    "The Data Query Language,s the group of commands responsible for querying data from a database.\n",
    "The SELECT command is used to query or retrieve data from a table in the database. It is used to retrieve a subset of records from one or more tables. \n",
    "SELECT <column-list>FROM<table-name>;"
   ]
  },
  {
   "cell_type": "markdown",
   "id": "b98e6a48-edf4-4b78-b82a-ee3974a78de4",
   "metadata": {},
   "source": [
    "Q5.\n",
    "A primary key is the column or columns that contain values that uniquely identify each row in a table. A database table must have a primary key for Optim to insert, update,restore, or delete data from a database table. \n",
    "\n",
    "A foreign key is generally used to build a relationship between the two tables. The major purpose of the foreign key is to sustain data integrity between two separate instances of an entity"
   ]
  },
  {
   "cell_type": "code",
   "execution_count": 2,
   "id": "23e27eb4-f1c6-455a-8357-77212dc76f62",
   "metadata": {},
   "outputs": [
    {
     "ename": "SyntaxError",
     "evalue": "invalid syntax (3502460491.py, line 1)",
     "output_type": "error",
     "traceback": [
      "\u001b[0;36m  Cell \u001b[0;32mIn[2], line 1\u001b[0;36m\u001b[0m\n\u001b[0;31m    Q6.\u001b[0m\n\u001b[0m       ^\u001b[0m\n\u001b[0;31mSyntaxError\u001b[0m\u001b[0;31m:\u001b[0m invalid syntax\n"
     ]
    }
   ],
   "source": [
    "Q6.\n",
    "first install SQL and then pip install mysql-connector-python\n",
    "import mysql.connector\n",
    "and then create connection\n",
    "\n",
    "import mysql.connector\n",
    "mydb= mysql.connector.connect(\n",
    "    host=\"localhost\",\n",
    "    user=\"yourusername\",\n",
    "    password=\"your_password\")\n",
    "print(mydb)\n",
    "\n",
    "Cursor is a Temporary Memory or Temporary Work Station. It is Allocated by Database Server at the Time of Performing DML(Data Manipulation Language) operations on the Table by the User. Cursors are used to store Database Tables.\n",
    "execute- This method accepts a MySQL query as a parameter and executes the given query."
   ]
  },
  {
   "cell_type": "code",
   "execution_count": null,
   "id": "212069fe-07f7-4e53-b4b2-df369aecf31a",
   "metadata": {},
   "outputs": [],
   "source": [
    "\n",
    "from-choose and join tables to get base data\n",
    "where- filterthe  base data\n",
    "group- Aggregates the base data\n",
    "having-filter the aggregated data\n",
    "select- Return the final data\n",
    "order by- Sorted the final data\n",
    "limit- limits the returned data to a row count"
   ]
  }
 ],
 "metadata": {
  "kernelspec": {
   "display_name": "Python 3 (ipykernel)",
   "language": "python",
   "name": "python3"
  },
  "language_info": {
   "codemirror_mode": {
    "name": "ipython",
    "version": 3
   },
   "file_extension": ".py",
   "mimetype": "text/x-python",
   "name": "python",
   "nbconvert_exporter": "python",
   "pygments_lexer": "ipython3",
   "version": "3.10.8"
  }
 },
 "nbformat": 4,
 "nbformat_minor": 5
}
